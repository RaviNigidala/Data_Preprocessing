{
 "cells": [
  {
   "cell_type": "code",
   "execution_count": 49,
   "metadata": {},
   "outputs": [],
   "source": [
    "import pandas as pd\n",
    "import numpy as np\n",
    "import matplotlib.pyplot as plt"
   ]
  },
  {
   "cell_type": "code",
   "execution_count": 2,
   "metadata": {},
   "outputs": [],
   "source": [
    "from sklearn.linear_model import LinearRegression\n",
    "p_lnr=LinearRegression()"
   ]
  },
  {
   "cell_type": "code",
   "execution_count": 50,
   "metadata": {},
   "outputs": [],
   "source": [
    "data=pd.read_csv(r\"C:\\Users\\ravit\\OneDrive\\Desktop\\Machine Learning A-Z Template Folder\\Part 2 - Regression\\Section 6 - Polynomial Regression\\Position_Salaries.csv\")"
   ]
  },
  {
   "cell_type": "code",
   "execution_count": 4,
   "metadata": {},
   "outputs": [],
   "source": [
    "X=data.iloc[: ,1:2]\n",
    "y=data.iloc[: ,2]"
   ]
  },
  {
   "cell_type": "code",
   "execution_count": 59,
   "metadata": {},
   "outputs": [],
   "source": [
    "from sklearn.preprocessing import PolynomialFeatures\n",
    "reg_poly=PolynomialFeatures(degree=12)"
   ]
  },
  {
   "cell_type": "code",
   "execution_count": 60,
   "metadata": {},
   "outputs": [],
   "source": [
    "X_poly=reg_poly.fit_transform(X)"
   ]
  },
  {
   "cell_type": "code",
   "execution_count": 61,
   "metadata": {},
   "outputs": [
    {
     "data": {
      "text/plain": [
       "LinearRegression(copy_X=True, fit_intercept=True, n_jobs=None,\n",
       "         normalize=False)"
      ]
     },
     "execution_count": 61,
     "metadata": {},
     "output_type": "execute_result"
    }
   ],
   "source": [
    "reg_poly.fit(X_poly,y)\n",
    "p_lnr.fit(X_poly,y)"
   ]
  },
  {
   "cell_type": "code",
   "execution_count": 62,
   "metadata": {},
   "outputs": [],
   "source": [
    "p_pred=p_lnr.predict(reg_poly.fit_transform(np.array([[6]])))"
   ]
  },
  {
   "cell_type": "code",
   "execution_count": 63,
   "metadata": {},
   "outputs": [
    {
     "data": {
      "image/png": "[encoded data removed]",
      "text/plain": [
       "<Figure size 432x288 with 1 Axes>"
      ]
     },
     "metadata": {
      "needs_background": "light"
     },
     "output_type": "display_data"
    }
   ],
   "source": [
    "plt.scatter(X,y,color=\"red\")\n",
    "plt.plot(X,p_lnr.predict(reg_poly.fit_transform(X)),color=\"blue\")\n",
    "plt.show()"
   ]
  },
  {
   "cell_type": "code",
   "execution_count": 68,
   "metadata": {},
   "outputs": [
    {
     "data": {
      "text/plain": [
       "array([150000.00003958])"
      ]
     },
     "execution_count": 68,
     "metadata": {},
     "output_type": "execute_result"
    }
   ],
   "source": [
    "p_pred"
   ]
  },
  {
   "cell_type": "markdown",
   "metadata": {},
   "source": [
    "# Support vector regression"
   ]
  },
  {
   "cell_type": "code",
   "execution_count": 195,
   "metadata": {},
   "outputs": [],
   "source": [
    "data=pd.read_csv(r\"C:\\Users\\ravit\\OneDrive\\Desktop\\Machine Learning A-Z Template Folder\\Part 2 - Regression\\Section 6 - Polynomial Regression\\Position_Salaries.csv\")"
   ]
  },
  {
   "cell_type": "code",
   "execution_count": 196,
   "metadata": {},
   "outputs": [],
   "source": [
    "X=data.iloc[: ,1:2].values\n",
    "y=data.iloc[: , 2].values"
   ]
  },
  {
   "cell_type": "code",
   "execution_count": 194,
   "metadata": {},
   "outputs": [
    {
     "ename": "TypeError",
     "evalue": "'numpy.ndarray' object is not callable",
     "output_type": "error",
     "traceback": [
      "\u001b[1;31m---------------------------------------------------------------------------\u001b[0m",
      "\u001b[1;31mTypeError\u001b[0m                                 Traceback (most recent call last)",
      "\u001b[1;32m<ipython-input-194-4fd57c423474>\u001b[0m in \u001b[0;36m<module>\u001b[1;34m\u001b[0m\n\u001b[1;32m----> 1\u001b[1;33m \u001b[0my\u001b[0m\u001b[1;33m=\u001b[0m\u001b[0my\u001b[0m\u001b[1;33m(\u001b[0m\u001b[0mdtype\u001b[0m\u001b[1;33m=\u001b[0m\u001b[0mfloat\u001b[0m\u001b[1;33m)\u001b[0m\u001b[1;33m\u001b[0m\u001b[1;33m\u001b[0m\u001b[0m\n\u001b[0m",
      "\u001b[1;31mTypeError\u001b[0m: 'numpy.ndarray' object is not callable"
     ]
    }
   ],
   "source": [
    "y=y(dtype=float)"
   ]
  },
  {
   "cell_type": "code",
   "execution_count": 197,
   "metadata": {},
   "outputs": [],
   "source": [
    "y=np.array([[y]])"
   ]
  },
  {
   "cell_type": "markdown",
   "metadata": {},
   "source": [
    "Feature scaling"
   ]
  },
  {
   "cell_type": "code",
   "execution_count": null,
   "metadata": {},
   "outputs": [],
   "source": [
    "from sklearn.preprocessing import StandardScaler\n",
    "sca_x=StandardScaler()\n",
    "sca_y=StandardScaler()\n",
    "X_sca=sca_x.fit_transform(X)\n",
    "y_sca=sca_y.fit_transform(y)"
   ]
  },
  {
   "cell_type": "markdown",
   "metadata": {},
   "source": [
    "# Decision Tree"
   ]
  },
  {
   "cell_type": "code",
   "execution_count": 210,
   "metadata": {},
   "outputs": [],
   "source": [
    "from sklearn.tree import DecisionTreeRegressor\n",
    "dt_reg=DecisionTreeRegressor(random_state=42)"
   ]
  },
  {
   "cell_type": "code",
   "execution_count": 211,
   "metadata": {},
   "outputs": [],
   "source": [
    "X=data.iloc[: ,1:2].values\n",
    "y=data.iloc[: , 2].values"
   ]
  },
  {
   "cell_type": "code",
   "execution_count": 212,
   "metadata": {},
   "outputs": [
    {
     "data": {
      "text/plain": [
       "DecisionTreeRegressor(criterion='mse', max_depth=None, max_features=None,\n",
       "           max_leaf_nodes=None, min_impurity_decrease=0.0,\n",
       "           min_impurity_split=None, min_samples_leaf=1,\n",
       "           min_samples_split=2, min_weight_fraction_leaf=0.0,\n",
       "           presort=False, random_state=42, splitter='best')"
      ]
     },
     "execution_count": 212,
     "metadata": {},
     "output_type": "execute_result"
    }
   ],
   "source": [
    "dt_reg.fit(X,y)"
   ]
  },
  {
   "cell_type": "code",
   "execution_count": 218,
   "metadata": {},
   "outputs": [
    {
     "data": {
      "text/plain": [
       "array([300000.])"
      ]
     },
     "execution_count": 218,
     "metadata": {},
     "output_type": "execute_result"
    }
   ],
   "source": [
    "dt_reg.predict(np.array([[8.5]]))"
   ]
  },
  {
   "cell_type": "code",
   "execution_count": 219,
   "metadata": {},
   "outputs": [
    {
     "data": {
      "image/png": "[encoded data removed]",
      "text/plain": [
       "<Figure size 432x288 with 1 Axes>"
      ]
     },
     "metadata": {
      "needs_background": "light"
     },
     "output_type": "display_data"
    }
   ],
   "source": [
    "plt.scatter(X,y,color='red')\n",
    "plt.plot(X,dt_reg.predict(X),color='blue')\n",
    "plt.show()"
   ]
  },
  {
   "cell_type": "code",
   "execution_count": 9,
   "metadata": {},
   "outputs": [
    {
     "data": {
      "text/plain": [
       "10    1\n",
       "9     1\n",
       "8     1\n",
       "7     1\n",
       "6     1\n",
       "5     1\n",
       "4     1\n",
       "3     1\n",
       "2     1\n",
       "1     1\n",
       "Name: Level, dtype: int64"
      ]
     },
     "execution_count": 9,
     "metadata": {},
     "output_type": "execute_result"
    }
   ],
   "source": [
    "pd.value_counts(data['Level'])"
   ]
  },
  {
   "cell_type": "code",
   "execution_count": 52,
   "metadata": {},
   "outputs": [],
   "source": [
    "w=pd.crosstab(data['Salary'],data['Level'])"
   ]
  },
  {
   "cell_type": "code",
   "execution_count": 54,
   "metadata": {},
   "outputs": [],
   "source": [
    "w[\"flag\"]=np.round((w[1]/sum(w[1]))*100,2)"
   ]
  },
  {
   "cell_type": "code",
   "execution_count": 59,
   "metadata": {},
   "outputs": [],
   "source": [
    "for i in data.index:\n",
    "    if data.loc[i]['Level']==1:\n",
    "        data.loc[i,'Groups']='level1'\n",
    "        continue\n",
    "    if data.loc[i]['Level']==2:\n",
    "        data.loc[i,'Groups']='level2'\n",
    "        continue\n",
    "    if data.loc[i]['Level']==3:\n",
    "        data.loc[i,'Groups']='level3'\n",
    "        continue\n",
    "    if data.loc[i]['Level']==4:\n",
    "        data.loc[i,'Groups']='level4'\n",
    "        continue\n",
    "    if data.loc[i]['Level']==5:\n",
    "        data.loc[i,'Groups']='level5'\n",
    "        continue\n",
    "    if data.loc[i]['Level']==6:\n",
    "        data.loc[i,'Groups']='level6'\n",
    "        continue\n",
    "    if data.loc[i]['Level']==7:\n",
    "        data.loc[i,'Groups']='level7'\n",
    "        continue\n",
    "    if data.loc[i]['Level']==8:\n",
    "        data.loc[i,'Groups']='level8'\n",
    "        continue\n",
    "    if data.loc[i]['Level']==9:\n",
    "        data.loc[i,'Groups']='level9'\n",
    "        continue\n",
    "    if data.loc[i]['Level']==10:\n",
    "        data.loc[i,'Groups']='level10'\n",
    "        continue    \n",
    "    else:\n",
    "        data.loc[i,'Groups']='NAN'"
   ]
  },
  {
   "cell_type": "code",
   "execution_count": 23,
   "metadata": {},
   "outputs": [],
   "source": [
    "n=(data[data['Level']==5]).index"
   ]
  },
  {
   "cell_type": "code",
   "execution_count": 40,
   "metadata": {},
   "outputs": [],
   "source": [
    "data['Group']=[0,0,0,0,0,0,0,0,0,0]"
   ]
  },
  {
   "cell_type": "code",
   "execution_count": 53,
   "metadata": {},
   "outputs": [],
   "source": [
    "del data['Group']"
   ]
  },
  {
   "cell_type": "code",
   "execution_count": 60,
   "metadata": {},
   "outputs": [
    {
     "data": {
      "text/html": [
       "<div>\n",
       "<style scoped>\n",
       "    .dataframe tbody tr th:only-of-type {\n",
       "        vertical-align: middle;\n",
       "    }\n",
       "\n",
       "    .dataframe tbody tr th {\n",
       "        vertical-align: top;\n",
       "    }\n",
       "\n",
       "    .dataframe thead th {\n",
       "        text-align: right;\n",
       "    }\n",
       "</style>\n",
       "<table border=\"1\" class=\"dataframe\">\n",
       "  <thead>\n",
       "    <tr style=\"text-align: right;\">\n",
       "      <th></th>\n",
       "      <th>Position</th>\n",
       "      <th>Level</th>\n",
       "      <th>Salary</th>\n",
       "      <th>Groups</th>\n",
       "    </tr>\n",
       "  </thead>\n",
       "  <tbody>\n",
       "    <tr>\n",
       "      <th>0</th>\n",
       "      <td>Business Analyst</td>\n",
       "      <td>1</td>\n",
       "      <td>45000</td>\n",
       "      <td>level1</td>\n",
       "    </tr>\n",
       "    <tr>\n",
       "      <th>1</th>\n",
       "      <td>Junior Consultant</td>\n",
       "      <td>2</td>\n",
       "      <td>50000</td>\n",
       "      <td>level2</td>\n",
       "    </tr>\n",
       "    <tr>\n",
       "      <th>2</th>\n",
       "      <td>Senior Consultant</td>\n",
       "      <td>3</td>\n",
       "      <td>60000</td>\n",
       "      <td>level3</td>\n",
       "    </tr>\n",
       "    <tr>\n",
       "      <th>3</th>\n",
       "      <td>Manager</td>\n",
       "      <td>4</td>\n",
       "      <td>80000</td>\n",
       "      <td>level4</td>\n",
       "    </tr>\n",
       "    <tr>\n",
       "      <th>4</th>\n",
       "      <td>Country Manager</td>\n",
       "      <td>5</td>\n",
       "      <td>110000</td>\n",
       "      <td>level5</td>\n",
       "    </tr>\n",
       "    <tr>\n",
       "      <th>5</th>\n",
       "      <td>Region Manager</td>\n",
       "      <td>6</td>\n",
       "      <td>150000</td>\n",
       "      <td>level6</td>\n",
       "    </tr>\n",
       "    <tr>\n",
       "      <th>6</th>\n",
       "      <td>Partner</td>\n",
       "      <td>7</td>\n",
       "      <td>200000</td>\n",
       "      <td>level7</td>\n",
       "    </tr>\n",
       "    <tr>\n",
       "      <th>7</th>\n",
       "      <td>Senior Partner</td>\n",
       "      <td>8</td>\n",
       "      <td>300000</td>\n",
       "      <td>level8</td>\n",
       "    </tr>\n",
       "    <tr>\n",
       "      <th>8</th>\n",
       "      <td>C-level</td>\n",
       "      <td>9</td>\n",
       "      <td>500000</td>\n",
       "      <td>level9</td>\n",
       "    </tr>\n",
       "    <tr>\n",
       "      <th>9</th>\n",
       "      <td>CEO</td>\n",
       "      <td>10</td>\n",
       "      <td>1000000</td>\n",
       "      <td>level10</td>\n",
       "    </tr>\n",
       "  </tbody>\n",
       "</table>\n",
       "</div>"
      ],
      "text/plain": [
       "            Position  Level   Salary   Groups\n",
       "0   Business Analyst      1    45000   level1\n",
       "1  Junior Consultant      2    50000   level2\n",
       "2  Senior Consultant      3    60000   level3\n",
       "3            Manager      4    80000   level4\n",
       "4    Country Manager      5   110000   level5\n",
       "5     Region Manager      6   150000   level6\n",
       "6            Partner      7   200000   level7\n",
       "7     Senior Partner      8   300000   level8\n",
       "8            C-level      9   500000   level9\n",
       "9                CEO     10  1000000  level10"
      ]
     },
     "execution_count": 60,
     "metadata": {},
     "output_type": "execute_result"
    }
   ],
   "source": [
    "data"
   ]
  },
  {
   "cell_type": "code",
   "execution_count": 70,
   "metadata": {},
   "outputs": [
    {
     "data": {
      "image/png": "[encoded data removed]",
      "text/plain": [
       "<Figure size 432x288 with 4 Axes>"
      ]
     },
     "metadata": {
      "needs_background": "light"
     },
     "output_type": "display_data"
    }
   ],
   "source": [
    "data.plot(kind='box', subplots=True ,layout=(2,2), sharex=False ,sharey=False)\n",
    "plt.show()"
   ]
  },
  {
   "cell_type": "code",
   "execution_count": 73,
   "metadata": {},
   "outputs": [
    {
     "data": {
      "image/png": "[encoded data removed]",
      "text/plain": [
       "<Figure size 432x288 with 2 Axes>"
      ]
     },
     "metadata": {
      "needs_background": "light"
     },
     "output_type": "display_data"
    }
   ],
   "source": [
    "data.plot(kind='density', subplots=True , sharex=False ,sharey=False)\n",
    "plt.show()"
   ]
  },
  {
   "cell_type": "code",
   "execution_count": 81,
   "metadata": {},
   "outputs": [
    {
     "data": {
      "image/png": "[encoded data removed]",
      "text/plain": [
       "<Figure size 432x288 with 1 Axes>"
      ]
     },
     "metadata": {
      "needs_background": "light"
     },
     "output_type": "display_data"
    }
   ],
   "source": [
    "correlation=data.corr()\n",
    "import numpy as np\n",
    "fig=plt.figure()\n",
    "ax=fig.add_subplot(111)\n",
    "cax=ax.matshow(correlation, vmin=-1,vmax=1)"
   ]
  },
  {
   "cell_type": "code",
   "execution_count": 83,
   "metadata": {},
   "outputs": [
    {
     "name": "stdout",
     "output_type": "stream",
     "text": [
      "           Level    Salary\n",
      "Level   1.000000  0.817949\n",
      "Salary  0.817949  1.000000\n"
     ]
    }
   ],
   "source": [
    "print(data.corr())"
   ]
  },
  {
   "cell_type": "code",
   "execution_count": 59,
   "metadata": {},
   "outputs": [],
   "source": [
    "import pandas as pd\n",
    "import numpy as np\n",
    "import matplotlib.pyplot as plt\n",
    "bill=pd.read_csv(r\"C:\\Users\\ravit\\OneDrive\\Desktop\\Machine Learning A-Z Template Folder\\unbill_data.csv\")"
   ]
  },
  {
   "cell_type": "code",
   "execution_count": 2,
   "metadata": {},
   "outputs": [
    {
     "name": "stdout",
     "output_type": "stream",
     "text": [
      "36309949.0\n",
      "0.0\n"
     ]
    }
   ],
   "source": [
    "print(np.max(bill['Consumption']))\n",
    "print(np.min(bill['Consumption']))"
   ]
  },
  {
   "cell_type": "code",
   "execution_count": 19,
   "metadata": {},
   "outputs": [],
   "source": [
    "for i in bill.index:\n",
    "    if bill.loc[i]['Consumption']<=10000:\n",
    "        bill.loc[i,'Groups']='low'\n",
    "        continue\n",
    "    if bill.loc[i]['Consumption']<=10000000 and bill.loc[i]['Consumption']>10000:\n",
    "        bill.loc[i,'Groups']='mid'\n",
    "        continue\n",
    "    if bill.loc[i]['Consumption']>10000000:\n",
    "        bill.loc[i,'Groups']='high'\n",
    "    \n",
    "    \n",
    "#pd.value_counts(bill['Consumption'])"
   ]
  },
  {
   "cell_type": "code",
   "execution_count": 20,
   "metadata": {},
   "outputs": [
    {
     "data": {
      "text/plain": [
       "low     23794\n",
       "mid     11579\n",
       "high        2\n",
       "Name: Groups, dtype: int64"
      ]
     },
     "execution_count": 20,
     "metadata": {},
     "output_type": "execute_result"
    }
   ],
   "source": [
    "pd.value_counts(bill['Groups'])\n",
    "#bill.head()"
   ]
  },
  {
   "cell_type": "code",
   "execution_count": 22,
   "metadata": {},
   "outputs": [],
   "source": [
    "x=(pd.value_counts(bill['RootCause'])/len(bill))*100"
   ]
  },
  {
   "cell_type": "code",
   "execution_count": 26,
   "metadata": {},
   "outputs": [
    {
     "data": {
      "text/plain": [
       "No Root Cause Match    49.789399\n",
       "Implausible            18.009894\n",
       "Impl Perm Est          16.452297\n",
       "Outsort                 6.151237\n",
       "EMMA                    5.201413\n",
       "Business Exception      3.409187\n",
       "Lock -  Billing         0.599293\n",
       "Lost Site               0.302473\n",
       "Technical Exception     0.053710\n",
       "Billing Block           0.031095\n",
       "Name: RootCause, dtype: float64"
      ]
     },
     "execution_count": 26,
     "metadata": {},
     "output_type": "execute_result"
    }
   ],
   "source": [
    "x"
   ]
  },
  {
   "cell_type": "code",
   "execution_count": 44,
   "metadata": {},
   "outputs": [
    {
     "data": {
      "text/plain": [
       "'No Root Cause Match'"
      ]
     },
     "execution_count": 44,
     "metadata": {},
     "output_type": "execute_result"
    }
   ],
   "source": [
    "x.index[0]"
   ]
  },
  {
   "cell_type": "code",
   "execution_count": 45,
   "metadata": {},
   "outputs": [],
   "source": [
    "def \n",
    "for i in bill.index:\n",
    "    for n in range(0,9):\n",
    "        if bill.loc[i]['RootCause']==x.index[n]:\n",
    "            bill.loc[i,'Root_groups']='group'+str(n+1)\n",
    "            continue\n"
   ]
  },
  {
   "cell_type": "code",
   "execution_count": 62,
   "metadata": {},
   "outputs": [
    {
     "data": {
      "text/html": [
       "<div>\n",
       "<style scoped>\n",
       "    .dataframe tbody tr th:only-of-type {\n",
       "        vertical-align: middle;\n",
       "    }\n",
       "\n",
       "    .dataframe tbody tr th {\n",
       "        vertical-align: top;\n",
       "    }\n",
       "\n",
       "    .dataframe thead th {\n",
       "        text-align: right;\n",
       "    }\n",
       "</style>\n",
       "<table border=\"1\" class=\"dataframe\">\n",
       "  <thead>\n",
       "    <tr style=\"text-align: right;\">\n",
       "      <th></th>\n",
       "      <th>Segment</th>\n",
       "      <th>Billing_Class</th>\n",
       "      <th>Site_Billing_Status</th>\n",
       "      <th>Site_Status</th>\n",
       "      <th>Consumption</th>\n",
       "      <th>Value_Unbilled</th>\n",
       "      <th>Billing_Frequency</th>\n",
       "      <th>UnbilledDays</th>\n",
       "      <th>RootCause</th>\n",
       "      <th>Voice_Attempt</th>\n",
       "      <th>target</th>\n",
       "    </tr>\n",
       "  </thead>\n",
       "  <tbody>\n",
       "    <tr>\n",
       "      <th>0</th>\n",
       "      <td>Others</td>\n",
       "      <td>Small and Medium Enterprises</td>\n",
       "      <td>Live - Billed &amp; Stop</td>\n",
       "      <td>Clean</td>\n",
       "      <td>1285.0</td>\n",
       "      <td>134.7</td>\n",
       "      <td>Q</td>\n",
       "      <td>144.0</td>\n",
       "      <td>No Root Cause Match</td>\n",
       "      <td>NaN</td>\n",
       "      <td>0</td>\n",
       "    </tr>\n",
       "  </tbody>\n",
       "</table>\n",
       "</div>"
      ],
      "text/plain": [
       "  Segment                 Billing_Class   Site_Billing_Status Site_Status  \\\n",
       "0  Others  Small and Medium Enterprises  Live - Billed & Stop       Clean   \n",
       "\n",
       "   Consumption  Value_Unbilled Billing_Frequency  UnbilledDays  \\\n",
       "0       1285.0           134.7                 Q         144.0   \n",
       "\n",
       "             RootCause Voice_Attempt  target  \n",
       "0  No Root Cause Match           NaN       0  "
      ]
     },
     "execution_count": 62,
     "metadata": {},
     "output_type": "execute_result"
    }
   ],
   "source": [
    "bill.head(1)"
   ]
  },
  {
   "cell_type": "code",
   "execution_count": 60,
   "metadata": {},
   "outputs": [],
   "source": [
    "def group_by(var1, var2,var3):\n",
    "    x=pd.crosstab(var3[var1],var3[var2])\n",
    "    x[\"flag\"]=np.round((x[1]/sum(x[1]))*100,2)\n",
    "    def abc(flag):\n",
    "        if flag < 10:\n",
    "            return \"group1\"\n",
    "        elif flag< 40:\n",
    "            return \"group2\"\n",
    "        elif flag< 60:\n",
    "            return \"group3\"\n",
    "        else:\n",
    "            return \"group4\"\n",
    "    x[\"var1_groups\"]=x[\"flag\"].apply(abc)\n",
    "    var3=pd.merge(var3,x,on=var1,how=\"left\")\n",
    "    var3=var3.drop([0,1,\"flag\"],axis=1)\n",
    "    return var3"
   ]
  },
  {
   "cell_type": "code",
   "execution_count": 65,
   "metadata": {
    "scrolled": false
   },
   "outputs": [],
   "source": [
    "bi=group_by('RootCause','target',bill)"
   ]
  },
  {
   "cell_type": "code",
   "execution_count": 74,
   "metadata": {},
   "outputs": [],
   "source": [
    "bill1=bill"
   ]
  },
  {
   "cell_type": "code",
   "execution_count": 75,
   "metadata": {},
   "outputs": [],
   "source": [
    "bill1['Segment']=np.where(bill1['Segment']=='Medium Enterpris','Medium Enterprise',bill1['Segment'])"
   ]
  },
  {
   "cell_type": "code",
   "execution_count": 81,
   "metadata": {},
   "outputs": [
    {
     "data": {
      "text/plain": [
       "Others               89.94\n",
       "Small Enterprise      8.56\n",
       "Medium Enterprise     1.16\n",
       "Segment TBA           0.34\n",
       "Name: Segment, dtype: float64"
      ]
     },
     "execution_count": 81,
     "metadata": {},
     "output_type": "execute_result"
    }
   ],
   "source": [
    "np.round(pd.value_counts(bill1['Segment'])/len(bill1)*100,2)"
   ]
  },
  {
   "cell_type": "code",
   "execution_count": 85,
   "metadata": {},
   "outputs": [
    {
     "data": {
      "text/html": [
       "<div>\n",
       "<style scoped>\n",
       "    .dataframe tbody tr th:only-of-type {\n",
       "        vertical-align: middle;\n",
       "    }\n",
       "\n",
       "    .dataframe tbody tr th {\n",
       "        vertical-align: top;\n",
       "    }\n",
       "\n",
       "    .dataframe thead th {\n",
       "        text-align: right;\n",
       "    }\n",
       "</style>\n",
       "<table border=\"1\" class=\"dataframe\">\n",
       "  <thead>\n",
       "    <tr style=\"text-align: right;\">\n",
       "      <th></th>\n",
       "      <th>count</th>\n",
       "      <th>mean</th>\n",
       "      <th>std</th>\n",
       "      <th>min</th>\n",
       "      <th>25%</th>\n",
       "      <th>50%</th>\n",
       "      <th>75%</th>\n",
       "      <th>max</th>\n",
       "    </tr>\n",
       "  </thead>\n",
       "  <tbody>\n",
       "    <tr>\n",
       "      <th>Consumption</th>\n",
       "      <td>35375.0</td>\n",
       "      <td>24994.080701</td>\n",
       "      <td>226778.720815</td>\n",
       "      <td>0.0</td>\n",
       "      <td>0.0</td>\n",
       "      <td>3561.00</td>\n",
       "      <td>15339.00</td>\n",
       "      <td>36309949.00</td>\n",
       "    </tr>\n",
       "    <tr>\n",
       "      <th>Value_Unbilled</th>\n",
       "      <td>35375.0</td>\n",
       "      <td>1176.268066</td>\n",
       "      <td>3291.090621</td>\n",
       "      <td>0.0</td>\n",
       "      <td>107.3</td>\n",
       "      <td>315.22</td>\n",
       "      <td>862.43</td>\n",
       "      <td>162985.28</td>\n",
       "    </tr>\n",
       "    <tr>\n",
       "      <th>UnbilledDays</th>\n",
       "      <td>35075.0</td>\n",
       "      <td>322.145716</td>\n",
       "      <td>391.246611</td>\n",
       "      <td>1.0</td>\n",
       "      <td>137.0</td>\n",
       "      <td>157.00</td>\n",
       "      <td>256.00</td>\n",
       "      <td>2335.00</td>\n",
       "    </tr>\n",
       "    <tr>\n",
       "      <th>target</th>\n",
       "      <td>35375.0</td>\n",
       "      <td>0.048000</td>\n",
       "      <td>0.213769</td>\n",
       "      <td>0.0</td>\n",
       "      <td>0.0</td>\n",
       "      <td>0.00</td>\n",
       "      <td>0.00</td>\n",
       "      <td>1.00</td>\n",
       "    </tr>\n",
       "  </tbody>\n",
       "</table>\n",
       "</div>"
      ],
      "text/plain": [
       "                  count          mean            std  min    25%      50%  \\\n",
       "Consumption     35375.0  24994.080701  226778.720815  0.0    0.0  3561.00   \n",
       "Value_Unbilled  35375.0   1176.268066    3291.090621  0.0  107.3   315.22   \n",
       "UnbilledDays    35075.0    322.145716     391.246611  1.0  137.0   157.00   \n",
       "target          35375.0      0.048000       0.213769  0.0    0.0     0.00   \n",
       "\n",
       "                     75%          max  \n",
       "Consumption     15339.00  36309949.00  \n",
       "Value_Unbilled    862.43    162985.28  \n",
       "UnbilledDays      256.00      2335.00  \n",
       "target              0.00         1.00  "
      ]
     },
     "execution_count": 85,
     "metadata": {},
     "output_type": "execute_result"
    }
   ],
   "source": [
    "bill1.describe().transpose()"
   ]
  },
  {
   "cell_type": "code",
   "execution_count": 90,
   "metadata": {},
   "outputs": [
    {
     "data": {
      "text/html": [
       "<div>\n",
       "<style scoped>\n",
       "    .dataframe tbody tr th:only-of-type {\n",
       "        vertical-align: middle;\n",
       "    }\n",
       "\n",
       "    .dataframe tbody tr th {\n",
       "        vertical-align: top;\n",
       "    }\n",
       "\n",
       "    .dataframe thead th {\n",
       "        text-align: right;\n",
       "    }\n",
       "</style>\n",
       "<table border=\"1\" class=\"dataframe\">\n",
       "  <thead>\n",
       "    <tr style=\"text-align: right;\">\n",
       "      <th>RootCause</th>\n",
       "      <th>Billing Block</th>\n",
       "      <th>Business Exception</th>\n",
       "      <th>EMMA</th>\n",
       "      <th>Impl Perm Est</th>\n",
       "      <th>Implausible</th>\n",
       "      <th>Lock -  Billing</th>\n",
       "      <th>Lost Site</th>\n",
       "      <th>No Root Cause Match</th>\n",
       "      <th>Outsort</th>\n",
       "      <th>Technical Exception</th>\n",
       "    </tr>\n",
       "    <tr>\n",
       "      <th>Segment</th>\n",
       "      <th></th>\n",
       "      <th></th>\n",
       "      <th></th>\n",
       "      <th></th>\n",
       "      <th></th>\n",
       "      <th></th>\n",
       "      <th></th>\n",
       "      <th></th>\n",
       "      <th></th>\n",
       "      <th></th>\n",
       "    </tr>\n",
       "  </thead>\n",
       "  <tbody>\n",
       "    <tr>\n",
       "      <th>Medium Enterprise</th>\n",
       "      <td>0</td>\n",
       "      <td>29</td>\n",
       "      <td>65</td>\n",
       "      <td>74</td>\n",
       "      <td>97</td>\n",
       "      <td>5</td>\n",
       "      <td>0</td>\n",
       "      <td>105</td>\n",
       "      <td>32</td>\n",
       "      <td>2</td>\n",
       "    </tr>\n",
       "    <tr>\n",
       "      <th>Others</th>\n",
       "      <td>10</td>\n",
       "      <td>1047</td>\n",
       "      <td>1487</td>\n",
       "      <td>5048</td>\n",
       "      <td>5421</td>\n",
       "      <td>172</td>\n",
       "      <td>96</td>\n",
       "      <td>16575</td>\n",
       "      <td>1962</td>\n",
       "      <td>0</td>\n",
       "    </tr>\n",
       "    <tr>\n",
       "      <th>Segment TBA</th>\n",
       "      <td>0</td>\n",
       "      <td>8</td>\n",
       "      <td>32</td>\n",
       "      <td>4</td>\n",
       "      <td>1</td>\n",
       "      <td>5</td>\n",
       "      <td>0</td>\n",
       "      <td>63</td>\n",
       "      <td>4</td>\n",
       "      <td>3</td>\n",
       "    </tr>\n",
       "    <tr>\n",
       "      <th>Small Enterprise</th>\n",
       "      <td>1</td>\n",
       "      <td>122</td>\n",
       "      <td>256</td>\n",
       "      <td>694</td>\n",
       "      <td>852</td>\n",
       "      <td>30</td>\n",
       "      <td>11</td>\n",
       "      <td>870</td>\n",
       "      <td>178</td>\n",
       "      <td>14</td>\n",
       "    </tr>\n",
       "  </tbody>\n",
       "</table>\n",
       "</div>"
      ],
      "text/plain": [
       "RootCause          Billing Block  Business Exception  EMMA  Impl Perm Est  \\\n",
       "Segment                                                                     \n",
       "Medium Enterprise              0                  29    65             74   \n",
       "Others                        10                1047  1487           5048   \n",
       "Segment TBA                    0                   8    32              4   \n",
       "Small Enterprise               1                 122   256            694   \n",
       "\n",
       "RootCause          Implausible  Lock -  Billing  Lost Site  \\\n",
       "Segment                                                      \n",
       "Medium Enterprise           97                5          0   \n",
       "Others                    5421              172         96   \n",
       "Segment TBA                  1                5          0   \n",
       "Small Enterprise           852               30         11   \n",
       "\n",
       "RootCause          No Root Cause Match  Outsort  Technical Exception  \n",
       "Segment                                                               \n",
       "Medium Enterprise                  105       32                    2  \n",
       "Others                           16575     1962                    0  \n",
       "Segment TBA                         63        4                    3  \n",
       "Small Enterprise                   870      178                   14  "
      ]
     },
     "execution_count": 90,
     "metadata": {},
     "output_type": "execute_result"
    }
   ],
   "source": [
    "pd.crosstab(bill1['Segment'],bill1['RootCause'])"
   ]
  },
  {
   "cell_type": "code",
   "execution_count": 97,
   "metadata": {},
   "outputs": [
    {
     "data": {
      "text/plain": [
       "Segment\n",
       "Medium Enterprise    4.160642e+07\n",
       "Others               6.116483e+08\n",
       "Segment TBA          8.545098e+06\n",
       "Small Enterprise     2.223658e+08\n",
       "Name: Consumption, dtype: float64"
      ]
     },
     "execution_count": 97,
     "metadata": {},
     "output_type": "execute_result"
    }
   ],
   "source": [
    "(bill.groupby('Segment')['Consumption'].sum()).transpose()"
   ]
  },
  {
   "cell_type": "code",
   "execution_count": null,
   "metadata": {},
   "outputs": [],
   "source": []
  }
 ],
 "metadata": {
  "kernelspec": {
   "display_name": "Python 3",
   "language": "python",
   "name": "python3"
  },
  "language_info": {
   "codemirror_mode": {
    "name": "ipython",
    "version": 3
   },
   "file_extension": ".py",
   "mimetype": "text/x-python",
   "name": "python",
   "nbconvert_exporter": "python",
   "pygments_lexer": "ipython3",
   "version": "3.7.1"
  }
 },
 "nbformat": 4,
 "nbformat_minor": 2
}
