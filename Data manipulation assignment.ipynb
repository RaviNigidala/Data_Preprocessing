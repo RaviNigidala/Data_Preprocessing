{
 "cells": [
  {
   "cell_type": "code",
   "execution_count": 48,
   "metadata": {},
   "outputs": [],
   "source": [
    "import pandas as pd\n",
    "import numpy as np\n",
    "import matplotlib.pyplot as plt\n",
    "auto_data=pd.read_csv(r'C:\\Users\\ravit\\OneDrive\\Desktop\\koti\\AutoDataset.csv')"
   ]
  },
  {
   "cell_type": "code",
   "execution_count": 49,
   "metadata": {},
   "outputs": [
    {
     "data": {
      "text/html": [
       "<div>\n",
       "<style scoped>\n",
       "    .dataframe tbody tr th:only-of-type {\n",
       "        vertical-align: middle;\n",
       "    }\n",
       "\n",
       "    .dataframe tbody tr th {\n",
       "        vertical-align: top;\n",
       "    }\n",
       "\n",
       "    .dataframe thead th {\n",
       "        text-align: right;\n",
       "    }\n",
       "</style>\n",
       "<table border=\"1\" class=\"dataframe\">\n",
       "  <thead>\n",
       "    <tr style=\"text-align: right;\">\n",
       "      <th></th>\n",
       "      <th>symboling</th>\n",
       "      <th>normalized-losses</th>\n",
       "      <th>make</th>\n",
       "      <th>fuel-type</th>\n",
       "      <th>aspiration</th>\n",
       "      <th>num-of-doors</th>\n",
       "      <th>body-style</th>\n",
       "      <th>drive-wheels</th>\n",
       "      <th>engine-location</th>\n",
       "      <th>wheel-base</th>\n",
       "      <th>...</th>\n",
       "      <th>engine-size</th>\n",
       "      <th>fuel-system</th>\n",
       "      <th>bore</th>\n",
       "      <th>stroke</th>\n",
       "      <th>compression-ratio</th>\n",
       "      <th>horsepower</th>\n",
       "      <th>peak-rpm</th>\n",
       "      <th>city-mpg</th>\n",
       "      <th>highway-mpg</th>\n",
       "      <th>price</th>\n",
       "    </tr>\n",
       "  </thead>\n",
       "  <tbody>\n",
       "    <tr>\n",
       "      <th>0</th>\n",
       "      <td>3</td>\n",
       "      <td>NaN</td>\n",
       "      <td>alfa-romero</td>\n",
       "      <td>gas</td>\n",
       "      <td>std</td>\n",
       "      <td>two</td>\n",
       "      <td>convertible</td>\n",
       "      <td>rwd</td>\n",
       "      <td>front</td>\n",
       "      <td>88.6</td>\n",
       "      <td>...</td>\n",
       "      <td>130</td>\n",
       "      <td>mpfi</td>\n",
       "      <td>3.47</td>\n",
       "      <td>2.68</td>\n",
       "      <td>9.0</td>\n",
       "      <td>111.0</td>\n",
       "      <td>5000.0</td>\n",
       "      <td>21</td>\n",
       "      <td>27</td>\n",
       "      <td>13495.0</td>\n",
       "    </tr>\n",
       "    <tr>\n",
       "      <th>1</th>\n",
       "      <td>3</td>\n",
       "      <td>NaN</td>\n",
       "      <td>alfa-romero</td>\n",
       "      <td>gas</td>\n",
       "      <td>std</td>\n",
       "      <td>two</td>\n",
       "      <td>convertible</td>\n",
       "      <td>rwd</td>\n",
       "      <td>front</td>\n",
       "      <td>88.6</td>\n",
       "      <td>...</td>\n",
       "      <td>130</td>\n",
       "      <td>mpfi</td>\n",
       "      <td>3.47</td>\n",
       "      <td>2.68</td>\n",
       "      <td>9.0</td>\n",
       "      <td>111.0</td>\n",
       "      <td>5000.0</td>\n",
       "      <td>21</td>\n",
       "      <td>27</td>\n",
       "      <td>16500.0</td>\n",
       "    </tr>\n",
       "    <tr>\n",
       "      <th>2</th>\n",
       "      <td>1</td>\n",
       "      <td>NaN</td>\n",
       "      <td>alfa-romero</td>\n",
       "      <td>gas</td>\n",
       "      <td>std</td>\n",
       "      <td>two</td>\n",
       "      <td>hatchback</td>\n",
       "      <td>rwd</td>\n",
       "      <td>front</td>\n",
       "      <td>94.5</td>\n",
       "      <td>...</td>\n",
       "      <td>152</td>\n",
       "      <td>mpfi</td>\n",
       "      <td>2.68</td>\n",
       "      <td>3.47</td>\n",
       "      <td>9.0</td>\n",
       "      <td>154.0</td>\n",
       "      <td>5000.0</td>\n",
       "      <td>19</td>\n",
       "      <td>26</td>\n",
       "      <td>16500.0</td>\n",
       "    </tr>\n",
       "    <tr>\n",
       "      <th>3</th>\n",
       "      <td>2</td>\n",
       "      <td>164.0</td>\n",
       "      <td>audi</td>\n",
       "      <td>gas</td>\n",
       "      <td>std</td>\n",
       "      <td>four</td>\n",
       "      <td>sedan</td>\n",
       "      <td>fwd</td>\n",
       "      <td>front</td>\n",
       "      <td>99.8</td>\n",
       "      <td>...</td>\n",
       "      <td>109</td>\n",
       "      <td>mpfi</td>\n",
       "      <td>3.19</td>\n",
       "      <td>3.40</td>\n",
       "      <td>10.0</td>\n",
       "      <td>102.0</td>\n",
       "      <td>5500.0</td>\n",
       "      <td>24</td>\n",
       "      <td>30</td>\n",
       "      <td>13950.0</td>\n",
       "    </tr>\n",
       "    <tr>\n",
       "      <th>4</th>\n",
       "      <td>2</td>\n",
       "      <td>164.0</td>\n",
       "      <td>audi</td>\n",
       "      <td>gas</td>\n",
       "      <td>std</td>\n",
       "      <td>four</td>\n",
       "      <td>sedan</td>\n",
       "      <td>4wd</td>\n",
       "      <td>front</td>\n",
       "      <td>99.4</td>\n",
       "      <td>...</td>\n",
       "      <td>136</td>\n",
       "      <td>mpfi</td>\n",
       "      <td>3.19</td>\n",
       "      <td>3.40</td>\n",
       "      <td>8.0</td>\n",
       "      <td>115.0</td>\n",
       "      <td>5500.0</td>\n",
       "      <td>18</td>\n",
       "      <td>22</td>\n",
       "      <td>17450.0</td>\n",
       "    </tr>\n",
       "  </tbody>\n",
       "</table>\n",
       "<p>5 rows × 26 columns</p>\n",
       "</div>"
      ],
      "text/plain": [
       "    symboling   normalized-losses         make  fuel-type  aspiration  \\\n",
       "0           3                 NaN  alfa-romero        gas         std   \n",
       "1           3                 NaN  alfa-romero        gas         std   \n",
       "2           1                 NaN  alfa-romero        gas         std   \n",
       "3           2               164.0         audi        gas         std   \n",
       "4           2               164.0         audi        gas         std   \n",
       "\n",
       "   num-of-doors   body-style  drive-wheels  engine-location   wheel-base  \\\n",
       "0           two  convertible           rwd            front         88.6   \n",
       "1           two  convertible           rwd            front         88.6   \n",
       "2           two    hatchback           rwd            front         94.5   \n",
       "3          four        sedan           fwd            front         99.8   \n",
       "4          four        sedan           4wd            front         99.4   \n",
       "\n",
       "    ...      engine-size   fuel-system   bore   stroke  compression-ratio  \\\n",
       "0   ...              130          mpfi   3.47     2.68                9.0   \n",
       "1   ...              130          mpfi   3.47     2.68                9.0   \n",
       "2   ...              152          mpfi   2.68     3.47                9.0   \n",
       "3   ...              109          mpfi   3.19     3.40               10.0   \n",
       "4   ...              136          mpfi   3.19     3.40                8.0   \n",
       "\n",
       "   horsepower   peak-rpm  city-mpg   highway-mpg    price  \n",
       "0       111.0     5000.0        21            27  13495.0  \n",
       "1       111.0     5000.0        21            27  16500.0  \n",
       "2       154.0     5000.0        19            26  16500.0  \n",
       "3       102.0     5500.0        24            30  13950.0  \n",
       "4       115.0     5500.0        18            22  17450.0  \n",
       "\n",
       "[5 rows x 26 columns]"
      ]
     },
     "execution_count": 49,
     "metadata": {},
     "output_type": "execute_result"
    }
   ],
   "source": [
    "auto_data.head()"
   ]
  },
  {
   "cell_type": "code",
   "execution_count": 50,
   "metadata": {},
   "outputs": [],
   "source": [
    "height_asc=auto_data.sort_values(' height', axis=0, ascending=True)"
   ]
  },
  {
   "cell_type": "code",
   "execution_count": 51,
   "metadata": {},
   "outputs": [
    {
     "data": {
      "text/plain": [
       "Index([' symboling', ' normalized-losses', ' make', ' fuel-type',\n",
       "       ' aspiration', ' num-of-doors', ' body-style', ' drive-wheels',\n",
       "       ' engine-location', ' wheel-base', ' length', ' width', ' height',\n",
       "       ' curb-weight', ' engine-type', ' num-of-cylinders', ' engine-size',\n",
       "       ' fuel-system', ' bore', ' stroke', ' compression-ratio', ' horsepower',\n",
       "       ' peak-rpm', ' city-mpg', ' highway-mpg', ' price'],\n",
       "      dtype='object')"
      ]
     },
     "execution_count": 51,
     "metadata": {},
     "output_type": "execute_result"
    }
   ],
   "source": [
    "#auto_data['height']\n",
    "auto_data.columns"
   ]
  },
  {
   "cell_type": "code",
   "execution_count": 52,
   "metadata": {},
   "outputs": [],
   "source": [
    "weight_des=auto_data.sort_values(' curb-weight', axis=0, ascending=False)"
   ]
  },
  {
   "cell_type": "code",
   "execution_count": 53,
   "metadata": {},
   "outputs": [
    {
     "data": {
      "text/plain": [
       "130"
      ]
     },
     "execution_count": 53,
     "metadata": {},
     "output_type": "execute_result"
    }
   ],
   "source": [
    "auto_data[' length'].duplicated().sum()"
   ]
  },
  {
   "cell_type": "code",
   "execution_count": 70,
   "metadata": {},
   "outputs": [],
   "source": [
    "complaints_data=pd.read_csv(r'C:\\Users\\ravit\\OneDrive\\Desktop\\koti\\Complaints.csv')"
   ]
  },
  {
   "cell_type": "code",
   "execution_count": 71,
   "metadata": {},
   "outputs": [
    {
     "data": {
      "text/plain": [
       "Index(['comp_id', 'month', 'incident', 'cust_id', 'sla status new',\n",
       "       'incident type', 'type', 'severity'],\n",
       "      dtype='object')"
      ]
     },
     "execution_count": 71,
     "metadata": {},
     "output_type": "execute_result"
    }
   ],
   "source": [
    "complaints_data.columns"
   ]
  },
  {
   "cell_type": "code",
   "execution_count": 72,
   "metadata": {},
   "outputs": [
    {
     "data": {
      "text/plain": [
       "0"
      ]
     },
     "execution_count": 72,
     "metadata": {},
     "output_type": "execute_result"
    }
   ],
   "source": [
    "complaints_data['comp_id'].duplicated().sum()"
   ]
  },
  {
   "cell_type": "code",
   "execution_count": 73,
   "metadata": {},
   "outputs": [],
   "source": [
    "slots=pd.read_csv(r'C:\\Users\\ravit\\OneDrive\\Desktop\\koti\\slots.csv')"
   ]
  },
  {
   "cell_type": "code",
   "execution_count": 74,
   "metadata": {},
   "outputs": [],
   "source": [
    "orders=pd.read_csv(r'C:\\Users\\ravit\\OneDrive\\Desktop\\koti\\orders.csv')"
   ]
  },
  {
   "cell_type": "code",
   "execution_count": 77,
   "metadata": {},
   "outputs": [
    {
     "name": "stdout",
     "output_type": "stream",
     "text": [
      "(1764, 17)\n",
      "(1369, 9)\n"
     ]
    },
    {
     "data": {
      "text/html": [
       "<div>\n",
       "<style scoped>\n",
       "    .dataframe tbody tr th:only-of-type {\n",
       "        vertical-align: middle;\n",
       "    }\n",
       "\n",
       "    .dataframe tbody tr th {\n",
       "        vertical-align: top;\n",
       "    }\n",
       "\n",
       "    .dataframe thead th {\n",
       "        text-align: right;\n",
       "    }\n",
       "</style>\n",
       "<table border=\"1\" class=\"dataframe\">\n",
       "  <thead>\n",
       "    <tr style=\"text-align: right;\">\n",
       "      <th></th>\n",
       "      <th>Unique_id</th>\n",
       "      <th>AD_ID</th>\n",
       "      <th>Date</th>\n",
       "      <th>Time</th>\n",
       "      <th>Client Product Code</th>\n",
       "      <th>Product ID</th>\n",
       "      <th>Network ID</th>\n",
       "      <th>Length</th>\n",
       "      <th>Orders</th>\n",
       "    </tr>\n",
       "  </thead>\n",
       "  <tbody>\n",
       "    <tr>\n",
       "      <th>0</th>\n",
       "      <td>SPYMYA2MC038416440.333333333333333</td>\n",
       "      <td>SPYMYA2MC038</td>\n",
       "      <td>1/5/2014</td>\n",
       "      <td>8:00 AM</td>\n",
       "      <td>MSDR02</td>\n",
       "      <td>SPYMYA</td>\n",
       "      <td>HIST</td>\n",
       "      <td>120</td>\n",
       "      <td>1</td>\n",
       "    </tr>\n",
       "    <tr>\n",
       "      <th>1</th>\n",
       "      <td>SPYMYA2MC038416440.416666666666667</td>\n",
       "      <td>SPYMYA2MC038</td>\n",
       "      <td>1/5/2014</td>\n",
       "      <td>10:00 AM</td>\n",
       "      <td>MSDR02</td>\n",
       "      <td>SPYMYA</td>\n",
       "      <td>HIST</td>\n",
       "      <td>120</td>\n",
       "      <td>1</td>\n",
       "    </tr>\n",
       "    <tr>\n",
       "      <th>2</th>\n",
       "      <td>SPYMYA2MC038416440.458333333333333</td>\n",
       "      <td>SPYMYA2MC038</td>\n",
       "      <td>1/5/2014</td>\n",
       "      <td>11:00 AM</td>\n",
       "      <td>MSDR02</td>\n",
       "      <td>SPYMYA</td>\n",
       "      <td>HIST</td>\n",
       "      <td>120</td>\n",
       "      <td>2</td>\n",
       "    </tr>\n",
       "    <tr>\n",
       "      <th>3</th>\n",
       "      <td>SPYMYA2MC038416440</td>\n",
       "      <td>SPYMYA2MC038</td>\n",
       "      <td>1/5/2014</td>\n",
       "      <td>12:00 AM</td>\n",
       "      <td>MSDR02</td>\n",
       "      <td>SPYMYA</td>\n",
       "      <td>HIST</td>\n",
       "      <td>120</td>\n",
       "      <td>2</td>\n",
       "    </tr>\n",
       "    <tr>\n",
       "      <th>4</th>\n",
       "      <td>SPYMYA2MC038416440.541666666666667</td>\n",
       "      <td>SPYMYA2MC038</td>\n",
       "      <td>1/5/2014</td>\n",
       "      <td>1:00 PM</td>\n",
       "      <td>MSDR02</td>\n",
       "      <td>SPYMYA</td>\n",
       "      <td>HIST</td>\n",
       "      <td>120</td>\n",
       "      <td>1</td>\n",
       "    </tr>\n",
       "  </tbody>\n",
       "</table>\n",
       "</div>"
      ],
      "text/plain": [
       "                            Unique_id         AD_ID      Date      Time  \\\n",
       "0  SPYMYA2MC038416440.333333333333333  SPYMYA2MC038  1/5/2014   8:00 AM   \n",
       "1  SPYMYA2MC038416440.416666666666667  SPYMYA2MC038  1/5/2014  10:00 AM   \n",
       "2  SPYMYA2MC038416440.458333333333333  SPYMYA2MC038  1/5/2014  11:00 AM   \n",
       "3                  SPYMYA2MC038416440  SPYMYA2MC038  1/5/2014  12:00 AM   \n",
       "4  SPYMYA2MC038416440.541666666666667  SPYMYA2MC038  1/5/2014   1:00 PM   \n",
       "\n",
       "  Client Product Code Product ID Network ID  Length  Orders  \n",
       "0              MSDR02     SPYMYA       HIST     120       1  \n",
       "1              MSDR02     SPYMYA       HIST     120       1  \n",
       "2              MSDR02     SPYMYA       HIST     120       2  \n",
       "3              MSDR02     SPYMYA       HIST     120       2  \n",
       "4              MSDR02     SPYMYA       HIST     120       1  "
      ]
     },
     "execution_count": 77,
     "metadata": {},
     "output_type": "execute_result"
    }
   ],
   "source": [
    "#print(slots.shape)\n",
    "#print(orders.shape)\n",
    "#orders.head()"
   ]
  },
  {
   "cell_type": "code",
   "execution_count": 94,
   "metadata": {},
   "outputs": [],
   "source": [
    "#pd.merge(slots,orders,on='Unique_id',how='right')"
   ]
  },
  {
   "cell_type": "code",
   "execution_count": 95,
   "metadata": {},
   "outputs": [],
   "source": [
    "bill_data=pd.read_csv(r'C:\\Users\\ravit\\OneDrive\\Desktop\\koti\\Bill.csv')"
   ]
  },
  {
   "cell_type": "code",
   "execution_count": 99,
   "metadata": {},
   "outputs": [
    {
     "data": {
      "text/html": [
       "<div>\n",
       "<style scoped>\n",
       "    .dataframe tbody tr th:only-of-type {\n",
       "        vertical-align: middle;\n",
       "    }\n",
       "\n",
       "    .dataframe tbody tr th {\n",
       "        vertical-align: top;\n",
       "    }\n",
       "\n",
       "    .dataframe thead th {\n",
       "        text-align: right;\n",
       "    }\n",
       "</style>\n",
       "<table border=\"1\" class=\"dataframe\">\n",
       "  <thead>\n",
       "    <tr style=\"text-align: right;\">\n",
       "      <th></th>\n",
       "      <th>cust_id</th>\n",
       "      <th>act_active_dt</th>\n",
       "      <th>package_id</th>\n",
       "      <th>bill_zip</th>\n",
       "      <th>customer_segment</th>\n",
       "      <th>status</th>\n",
       "      <th>bill_amt</th>\n",
       "    </tr>\n",
       "  </thead>\n",
       "  <tbody>\n",
       "    <tr>\n",
       "      <th>0</th>\n",
       "      <td>9243148228</td>\n",
       "      <td>6/22/2006</td>\n",
       "      <td>54518.0</td>\n",
       "      <td>560095</td>\n",
       "      <td>S</td>\n",
       "      <td>ACTIVE</td>\n",
       "      <td>561.80</td>\n",
       "    </tr>\n",
       "    <tr>\n",
       "      <th>1</th>\n",
       "      <td>9243264060</td>\n",
       "      <td>6/23/2006</td>\n",
       "      <td>617691.0</td>\n",
       "      <td>580029</td>\n",
       "      <td>S</td>\n",
       "      <td>ACTIVE</td>\n",
       "      <td>224.35</td>\n",
       "    </tr>\n",
       "  </tbody>\n",
       "</table>\n",
       "</div>"
      ],
      "text/plain": [
       "      cust_id act_active_dt  package_id  bill_zip customer_segment  status  \\\n",
       "0  9243148228     6/22/2006     54518.0    560095                S  ACTIVE   \n",
       "1  9243264060     6/23/2006    617691.0    580029                S  ACTIVE   \n",
       "\n",
       "   bill_amt  \n",
       "0    561.80  \n",
       "1    224.35  "
      ]
     },
     "execution_count": 99,
     "metadata": {},
     "output_type": "execute_result"
    }
   ],
   "source": [
    "bill_data.head(2)"
   ]
  },
  {
   "cell_type": "code",
   "execution_count": 100,
   "metadata": {},
   "outputs": [
    {
     "data": {
      "text/html": [
       "<div>\n",
       "<style scoped>\n",
       "    .dataframe tbody tr th:only-of-type {\n",
       "        vertical-align: middle;\n",
       "    }\n",
       "\n",
       "    .dataframe tbody tr th {\n",
       "        vertical-align: top;\n",
       "    }\n",
       "\n",
       "    .dataframe thead th {\n",
       "        text-align: right;\n",
       "    }\n",
       "</style>\n",
       "<table border=\"1\" class=\"dataframe\">\n",
       "  <thead>\n",
       "    <tr style=\"text-align: right;\">\n",
       "      <th></th>\n",
       "      <th>comp_id</th>\n",
       "      <th>month</th>\n",
       "      <th>incident</th>\n",
       "      <th>cust_id</th>\n",
       "      <th>sla status new</th>\n",
       "      <th>incident type</th>\n",
       "      <th>type</th>\n",
       "      <th>severity</th>\n",
       "    </tr>\n",
       "  </thead>\n",
       "  <tbody>\n",
       "    <tr>\n",
       "      <th>0</th>\n",
       "      <td>318691791</td>\n",
       "      <td>12-Jul</td>\n",
       "      <td>7/22/2012</td>\n",
       "      <td>9.243584e+09</td>\n",
       "      <td>ClosedIN SLA</td>\n",
       "      <td>Customer Communication</td>\n",
       "      <td>VAS-OTHERS</td>\n",
       "      <td>High</td>\n",
       "    </tr>\n",
       "    <tr>\n",
       "      <th>1</th>\n",
       "      <td>318691795</td>\n",
       "      <td>12-Jul</td>\n",
       "      <td>7/22/2012</td>\n",
       "      <td>9.243584e+09</td>\n",
       "      <td>ClosedIN SLA</td>\n",
       "      <td>Customer Communication</td>\n",
       "      <td>VAS-OTHERS</td>\n",
       "      <td>High</td>\n",
       "    </tr>\n",
       "  </tbody>\n",
       "</table>\n",
       "</div>"
      ],
      "text/plain": [
       "     comp_id   month   incident       cust_id sla status new  \\\n",
       "0  318691791  12-Jul  7/22/2012  9.243584e+09   ClosedIN SLA   \n",
       "1  318691795  12-Jul  7/22/2012  9.243584e+09   ClosedIN SLA   \n",
       "\n",
       "            incident type        type severity  \n",
       "0  Customer Communication  VAS-OTHERS     High  \n",
       "1  Customer Communication  VAS-OTHERS     High  "
      ]
     },
     "execution_count": 100,
     "metadata": {},
     "output_type": "execute_result"
    }
   ],
   "source": [
    "complaints_data.head(2)"
   ]
  },
  {
   "cell_type": "code",
   "execution_count": 112,
   "metadata": {},
   "outputs": [],
   "source": [
    "inner_join_bill_complaints=pd.merge(bill_data,complaints_data,on='cust_id',how='inner')"
   ]
  },
  {
   "cell_type": "code",
   "execution_count": 128,
   "metadata": {},
   "outputs": [
    {
     "data": {
      "text/plain": [
       "(426, 14)"
      ]
     },
     "execution_count": 128,
     "metadata": {},
     "output_type": "execute_result"
    }
   ],
   "source": [
    "inner_join_bill_complaints.shape"
   ]
  },
  {
   "cell_type": "code",
   "execution_count": 103,
   "metadata": {},
   "outputs": [
    {
     "data": {
      "text/plain": [
       "(6587, 8)"
      ]
     },
     "execution_count": 103,
     "metadata": {},
     "output_type": "execute_result"
    }
   ],
   "source": [
    "complaints_data.shape"
   ]
  },
  {
   "cell_type": "code",
   "execution_count": 118,
   "metadata": {},
   "outputs": [],
   "source": [
    "outer_join_bill_complaints=pd.merge(bill_data,complaints_data,on='cust_id',how='outer')"
   ]
  },
  {
   "cell_type": "code",
   "execution_count": 121,
   "metadata": {},
   "outputs": [],
   "source": [
    "left_join_bill_complaints=pd.merge(bill_data,complaints_data,on='cust_id',how='left')"
   ]
  },
  {
   "cell_type": "code",
   "execution_count": 122,
   "metadata": {},
   "outputs": [],
   "source": [
    "right_join_bill_complaints=pd.merge(bill_data,complaints_data,on='cust_id',how='left')"
   ]
  },
  {
   "cell_type": "code",
   "execution_count": 127,
   "metadata": {},
   "outputs": [],
   "source": [
    "right_join_bill_complaints.to_csv(r'C:\\Users\\ravit\\OneDrive\\Desktop\\koti\\right_join.csv')"
   ]
  },
  {
   "cell_type": "code",
   "execution_count": null,
   "metadata": {},
   "outputs": [],
   "source": [
    "outer_join_bill_complaints=pd.merge(bill_data,complaints_data,on='cust_id',how='outer')\n",
    "left_join_bill_complaints=pd.merge(bill_data,complaints_data,on='cust_id',how='left')\n",
    "right_join_bill_complaints=pd.merge(bill_data,complaints_data,on='cust_id',how='left')\n",
    "right_join_bill_complaints.to_csv(r'C:\\Users\\ravit\\OneDrive\\Desktop\\koti\\right_join.csv')"
   ]
  }
 ],
 "metadata": {
  "kernelspec": {
   "display_name": "Python 3",
   "language": "python",
   "name": "python3"
  },
  "language_info": {
   "codemirror_mode": {
    "name": "ipython",
    "version": 3
   },
   "file_extension": ".py",
   "mimetype": "text/x-python",
   "name": "python",
   "nbconvert_exporter": "python",
   "pygments_lexer": "ipython3",
   "version": "3.7.1"
  }
 },
 "nbformat": 4,
 "nbformat_minor": 2
}
