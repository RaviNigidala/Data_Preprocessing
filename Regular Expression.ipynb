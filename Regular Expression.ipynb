{
 "cells": [
  {
   "cell_type": "markdown",
   "metadata": {},
   "source": [
    "String input"
   ]
  },
  {
   "cell_type": "code",
   "execution_count": 27,
   "metadata": {},
   "outputs": [],
   "source": [
    "string='''Ravi is 231 years old,\n",
    "and  Sam is 2634, and his brother, John is 31'''"
   ]
  },
  {
   "cell_type": "code",
   "execution_count": 23,
   "metadata": {},
   "outputs": [],
   "source": [
    "import re\n",
    "ages=re.findall(r'\\d{1,4}',string)\n",
    "names=re.findall(r'\\W[A-Z][a-z]*',string)"
   ]
  },
  {
   "cell_type": "code",
   "execution_count": 24,
   "metadata": {},
   "outputs": [
    {
     "name": "stdout",
     "output_type": "stream",
     "text": [
      "['231', '2634', '31']\n",
      "[' Ravi', ' Sam', ' John']\n"
     ]
    }
   ],
   "source": [
    "print(ages)\n",
    "print(names)"
   ]
  },
  {
   "cell_type": "code",
   "execution_count": 30,
   "metadata": {},
   "outputs": [
    {
     "name": "stdout",
     "output_type": "stream",
     "text": [
      "(28, 31)\n"
     ]
    }
   ],
   "source": [
    "for i in re.finditer('Sam',string):\n",
    "    print(i.span())"
   ]
  },
  {
   "cell_type": "code",
   "execution_count": 36,
   "metadata": {},
   "outputs": [
    {
     "name": "stdout",
     "output_type": "stream",
     "text": [
      "Sam\n",
      "Ram\n",
      "Sam\n",
      "(0, 3)\n",
      "(5, 8)\n",
      "(9, 12)\n"
     ]
    }
   ],
   "source": [
    "name_s='''Sam, Ram,Same '''\n",
    "strn=re.findall(\"[SRRS]am\",name_s)\n",
    "iter=re.finditer(\"[SRRS]am\",name_s)\n",
    "for n in strn:\n",
    "    name_list=[n]\n",
    "    print(n)\n",
    "for i in re.finditer(\"[SRRS]am\",name_s):\n",
    "        iter_list=[i]\n",
    "        print(i.span())\n",
    "dicti={}\n",
    "x=0\n",
    "for j in name_list:\n",
    "    dicti[j]=iter_list[0]\n",
    "    x+=1\n",
    "    "
   ]
  }
 ],
 "metadata": {
  "kernelspec": {
   "display_name": "Python 3",
   "language": "python",
   "name": "python3"
  },
  "language_info": {
   "codemirror_mode": {
    "name": "ipython",
    "version": 3
   },
   "file_extension": ".py",
   "mimetype": "text/x-python",
   "name": "python",
   "nbconvert_exporter": "python",
   "pygments_lexer": "ipython3",
   "version": "3.7.1"
  }
 },
 "nbformat": 4,
 "nbformat_minor": 2
}
